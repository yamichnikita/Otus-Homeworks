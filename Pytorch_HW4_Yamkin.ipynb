{
  "nbformat": 4,
  "nbformat_minor": 0,
  "metadata": {
    "colab": {
      "provenance": [],
      "gpuType": "T4"
    },
    "kernelspec": {
      "name": "python3",
      "display_name": "Python 3"
    },
    "language_info": {
      "name": "python"
    },
    "accelerator": "GPU"
  },
  "cells": [
    {
      "cell_type": "code",
      "execution_count": 26,
      "metadata": {
        "id": "cmdB6XCuwe4y"
      },
      "outputs": [],
      "source": [
        "import torch\n",
        "import matplotlib.pyplot as plt\n",
        "from torchvision import datasets, transforms"
      ]
    },
    {
      "cell_type": "code",
      "source": [
        "x0 = torch.rand(size = (1, 2000)) * 20 - 10\n",
        "x1 = torch.rand(size = (1,2000)) * 20 - 10"
      ],
      "metadata": {
        "id": "KXeRL2yVzC9w"
      },
      "execution_count": 2,
      "outputs": []
    },
    {
      "cell_type": "code",
      "source": [
        "x0.shape"
      ],
      "metadata": {
        "colab": {
          "base_uri": "https://localhost:8080/"
        },
        "id": "F3VSr119zz-L",
        "outputId": "a54ca4c8-3b7b-4655-a4a6-3dcaf2233f36"
      },
      "execution_count": 3,
      "outputs": [
        {
          "output_type": "execute_result",
          "data": {
            "text/plain": [
              "torch.Size([1, 2000])"
            ]
          },
          "metadata": {},
          "execution_count": 3
        }
      ]
    },
    {
      "cell_type": "code",
      "source": [
        "x0"
      ],
      "metadata": {
        "colab": {
          "base_uri": "https://localhost:8080/"
        },
        "id": "0aKQ-sGhz6Oh",
        "outputId": "df25edba-0e77-4a50-aadc-75b0aa3a057b"
      },
      "execution_count": 4,
      "outputs": [
        {
          "output_type": "execute_result",
          "data": {
            "text/plain": [
              "tensor([[ 6.0096,  0.1959,  0.7988,  ..., -7.4200, -9.9174, -4.8551]])"
            ]
          },
          "metadata": {},
          "execution_count": 4
        }
      ]
    },
    {
      "cell_type": "code",
      "source": [
        "y = torch.sin(x0 + 2*x1) * torch.exp(-(2*x0 + x1)**2)\n",
        "y"
      ],
      "metadata": {
        "id": "RiUsE41N20uK",
        "colab": {
          "base_uri": "https://localhost:8080/"
        },
        "outputId": "3654d6c7-ece0-4ea2-c03e-a181cba2632d"
      },
      "execution_count": 5,
      "outputs": [
        {
          "output_type": "execute_result",
          "data": {
            "text/plain": [
              "tensor([[-2.6915e-27,  5.3418e-14,  3.1939e-02,  ...,  0.0000e+00,\n",
              "          0.0000e+00,  1.0601e-21]])"
            ]
          },
          "metadata": {},
          "execution_count": 5
        }
      ]
    },
    {
      "cell_type": "code",
      "source": [
        "data = torch.cat([x0,x1,y], dim = 0)\n",
        "data.shape"
      ],
      "metadata": {
        "id": "Lyyyn_2W386E",
        "colab": {
          "base_uri": "https://localhost:8080/"
        },
        "outputId": "a8250f11-c2bc-4a05-b154-aba56aabe7e0"
      },
      "execution_count": 30,
      "outputs": [
        {
          "output_type": "execute_result",
          "data": {
            "text/plain": [
              "torch.Size([3, 2000])"
            ]
          },
          "metadata": {},
          "execution_count": 30
        }
      ]
    },
    {
      "cell_type": "code",
      "source": [
        "data"
      ],
      "metadata": {
        "colab": {
          "base_uri": "https://localhost:8080/"
        },
        "id": "DijiUD6h8Z5v",
        "outputId": "62b265cd-a03d-4bcc-e1d6-43c35d666b0e"
      },
      "execution_count": 152,
      "outputs": [
        {
          "output_type": "execute_result",
          "data": {
            "text/plain": [
              "tensor([[ 6.0096e+00,  1.9591e-01,  7.9877e-01,  ..., -7.4200e+00,\n",
              "         -9.9174e+00, -4.8551e+00],\n",
              "        [-4.2256e+00, -5.9018e+00,  2.4780e-01,  ...,  1.0588e+00,\n",
              "          5.3021e+00,  2.7903e+00],\n",
              "        [-2.6915e-27,  5.3418e-14,  3.1939e-02,  ...,  0.0000e+00,\n",
              "          0.0000e+00,  1.0601e-21]])"
            ]
          },
          "metadata": {},
          "execution_count": 152
        }
      ]
    },
    {
      "cell_type": "code",
      "source": [
        "x_train = data[:2, :(int(0.7 * len(data[1])))].transpose(0,1)\n",
        "y_train = data[2, :(int(0.7 * len(data[1])))].unsqueeze(0).transpose(0,1)\n",
        "x_train.shape, y_train.shape"
      ],
      "metadata": {
        "colab": {
          "base_uri": "https://localhost:8080/"
        },
        "id": "YRj989SG9F58",
        "outputId": "1a8cc838-1c56-4281-a190-97ccc77d1eff"
      },
      "execution_count": 161,
      "outputs": [
        {
          "output_type": "execute_result",
          "data": {
            "text/plain": [
              "(torch.Size([1400, 2]), torch.Size([1400, 1]))"
            ]
          },
          "metadata": {},
          "execution_count": 161
        }
      ]
    },
    {
      "cell_type": "code",
      "source": [
        "x_val = data[:2, (int(0.7 * len(data[1]))):(int(0.85 * len(data[1])))].transpose(0,1)\n",
        "y_val = data[2, (int(0.7 * len(data[1]))):(int(0.85 * len(data[1])))].unsqueeze(0).transpose(0,1)\n",
        "x_val.shape, y_val.shape"
      ],
      "metadata": {
        "colab": {
          "base_uri": "https://localhost:8080/"
        },
        "id": "le_njQgF_mVX",
        "outputId": "3e01541c-4e7d-45e1-8896-1077cd372e59"
      },
      "execution_count": 162,
      "outputs": [
        {
          "output_type": "execute_result",
          "data": {
            "text/plain": [
              "(torch.Size([300, 2]), torch.Size([300, 1]))"
            ]
          },
          "metadata": {},
          "execution_count": 162
        }
      ]
    },
    {
      "cell_type": "code",
      "source": [
        "torch.cat([x_train, x_val], dim = 0).shape"
      ],
      "metadata": {
        "colab": {
          "base_uri": "https://localhost:8080/"
        },
        "id": "D8j6o5wEbq8k",
        "outputId": "4360179c-59e8-4b2a-aab3-aecfca4f4176"
      },
      "execution_count": 160,
      "outputs": [
        {
          "output_type": "execute_result",
          "data": {
            "text/plain": [
              "torch.Size([1700, 2])"
            ]
          },
          "metadata": {},
          "execution_count": 160
        }
      ]
    },
    {
      "cell_type": "code",
      "source": [
        "mean = torch.cat([x_train, x_val], dim = 0).data.float().mean()\n",
        "std = torch.cat([x_train, x_val], dim = 0).data.float().std()\n",
        "(mean, std)"
      ],
      "metadata": {
        "colab": {
          "base_uri": "https://localhost:8080/"
        },
        "id": "-sSVFvFpZY6j",
        "outputId": "bdbac0aa-003a-4177-a296-e83e3a6ef846"
      },
      "execution_count": 163,
      "outputs": [
        {
          "output_type": "execute_result",
          "data": {
            "text/plain": [
              "(tensor(-0.1026), tensor(5.7481))"
            ]
          },
          "metadata": {},
          "execution_count": 163
        }
      ]
    },
    {
      "cell_type": "code",
      "source": [
        "# Нормализация\n",
        "normalized_train_data = (x_train.float() - mean) / std\n",
        "normalized_train_data.shape"
      ],
      "metadata": {
        "colab": {
          "base_uri": "https://localhost:8080/"
        },
        "id": "_SNu8Ge8cIdd",
        "outputId": "24de1a65-978f-459f-d64a-b6ad3fd2357c"
      },
      "execution_count": 164,
      "outputs": [
        {
          "output_type": "execute_result",
          "data": {
            "text/plain": [
              "torch.Size([1400, 2])"
            ]
          },
          "metadata": {},
          "execution_count": 164
        }
      ]
    },
    {
      "cell_type": "code",
      "source": [
        "# Нормализация\n",
        "normalized_val_data = (x_val.float() - mean) / std\n",
        "normalized_val_data.shape"
      ],
      "metadata": {
        "colab": {
          "base_uri": "https://localhost:8080/"
        },
        "id": "gH8P8Zy9cNgm",
        "outputId": "c172c3ce-1f98-4c6b-febd-6ff39a30c419"
      },
      "execution_count": 165,
      "outputs": [
        {
          "output_type": "execute_result",
          "data": {
            "text/plain": [
              "torch.Size([300, 2])"
            ]
          },
          "metadata": {},
          "execution_count": 165
        }
      ]
    },
    {
      "cell_type": "code",
      "source": [
        "x_test = data[:2, (int(0.85 * len(data[1]))):].transpose(0,1)\n",
        "y_test = data[2,  (int(0.85 * len(data[1]))):].unsqueeze(0).transpose(0,1)\n",
        "x_test.shape, y_test.shape"
      ],
      "metadata": {
        "colab": {
          "base_uri": "https://localhost:8080/"
        },
        "id": "DbILQ3xv_1no",
        "outputId": "e485ffcf-210a-40ef-9b01-2f7f572ecc55"
      },
      "execution_count": 166,
      "outputs": [
        {
          "output_type": "execute_result",
          "data": {
            "text/plain": [
              "(torch.Size([300, 2]), torch.Size([300, 1]))"
            ]
          },
          "metadata": {},
          "execution_count": 166
        }
      ]
    },
    {
      "cell_type": "code",
      "source": [
        "# Нормализация\n",
        "normalized_test_data = (x_test.float() - mean) / std\n",
        "normalized_test_data.shape"
      ],
      "metadata": {
        "colab": {
          "base_uri": "https://localhost:8080/"
        },
        "id": "-A3ZoGbYcc6e",
        "outputId": "8ed74c0f-d0ef-4e78-db64-590f581ff39d"
      },
      "execution_count": 167,
      "outputs": [
        {
          "output_type": "execute_result",
          "data": {
            "text/plain": [
              "torch.Size([300, 2])"
            ]
          },
          "metadata": {},
          "execution_count": 167
        }
      ]
    },
    {
      "cell_type": "code",
      "source": [
        "class CustomDataset(torch.utils.data.Dataset):\n",
        "  def __init__(self,x, y):\n",
        "    self.x = x\n",
        "    self.y = y\n",
        "\n",
        "  def __len__(self):\n",
        "    return self.x.shape[0]\n",
        "\n",
        "  def __getitem__(self, index):\n",
        "    return (self.x[index,:], self.y[index,:])"
      ],
      "metadata": {
        "id": "dEOxWl9fOxV-"
      },
      "execution_count": 168,
      "outputs": []
    },
    {
      "cell_type": "code",
      "source": [
        "train_data = CustomDataset(normalized_train_data, y_train)\n",
        "train_data[0], len(train_data)"
      ],
      "metadata": {
        "colab": {
          "base_uri": "https://localhost:8080/"
        },
        "id": "ZfKYWx7qQ8J_",
        "outputId": "96b4a19b-7654-4bde-a7e7-21fb38189f68"
      },
      "execution_count": 169,
      "outputs": [
        {
          "output_type": "execute_result",
          "data": {
            "text/plain": [
              "((tensor([ 1.0633, -0.7173]), tensor([-2.6915e-27])), 1400)"
            ]
          },
          "metadata": {},
          "execution_count": 169
        }
      ]
    },
    {
      "cell_type": "code",
      "source": [
        "val_data = CustomDataset(normalized_val_data, y_val)\n",
        "val_data[0], len(val_data)"
      ],
      "metadata": {
        "colab": {
          "base_uri": "https://localhost:8080/"
        },
        "id": "nunx3KIvRMmF",
        "outputId": "3af892b0-e6d9-4743-c9b9-e287623049f9"
      },
      "execution_count": 170,
      "outputs": [
        {
          "output_type": "execute_result",
          "data": {
            "text/plain": [
              "((tensor([-1.1899, -0.1671]), tensor([-0.])), 300)"
            ]
          },
          "metadata": {},
          "execution_count": 170
        }
      ]
    },
    {
      "cell_type": "code",
      "source": [
        "test_data = CustomDataset(normalized_test_data, y_test)\n",
        "test_data[0], len(test_data)"
      ],
      "metadata": {
        "colab": {
          "base_uri": "https://localhost:8080/"
        },
        "id": "7rXAXAf8RXmp",
        "outputId": "c8c4b27e-ceba-49b4-d3c2-4de8dc3ae497"
      },
      "execution_count": 171,
      "outputs": [
        {
          "output_type": "execute_result",
          "data": {
            "text/plain": [
              "((tensor([-0.8079,  1.0708]), tensor([6.3775e-06])), 300)"
            ]
          },
          "metadata": {},
          "execution_count": 171
        }
      ]
    },
    {
      "cell_type": "code",
      "source": [
        "from torch.utils.data import DataLoader\n",
        "\n",
        "train_dataloader = DataLoader(train_data, batch_size = 1, shuffle=False, drop_last= True)\n",
        "val_dataloader = DataLoader(val_data, batch_size = 1, shuffle=False, drop_last= True)\n",
        "test_dataloader = DataLoader(test_data, batch_size=1, shuffle=False, drop_last= True)"
      ],
      "metadata": {
        "id": "mRov6ALxRn5b"
      },
      "execution_count": 200,
      "outputs": []
    },
    {
      "cell_type": "code",
      "source": [
        "len(val_dataloader)"
      ],
      "metadata": {
        "colab": {
          "base_uri": "https://localhost:8080/"
        },
        "id": "_s0XlGJ1_uHW",
        "outputId": "98cd9a83-1fb6-4259-c5ba-851766c52a99"
      },
      "execution_count": 201,
      "outputs": [
        {
          "output_type": "execute_result",
          "data": {
            "text/plain": [
              "300"
            ]
          },
          "metadata": {},
          "execution_count": 201
        }
      ]
    },
    {
      "cell_type": "code",
      "source": [
        "# help(DataLoader)"
      ],
      "metadata": {
        "id": "pS_AlgocVfu1"
      },
      "execution_count": 202,
      "outputs": []
    },
    {
      "cell_type": "code",
      "source": [
        "list(val_dataloader)[0][0].shape"
      ],
      "metadata": {
        "colab": {
          "base_uri": "https://localhost:8080/"
        },
        "id": "AWZ7hEr3UE9M",
        "outputId": "c7cef1a5-7657-459e-960a-4c2d80f7a31b"
      },
      "execution_count": 203,
      "outputs": [
        {
          "output_type": "execute_result",
          "data": {
            "text/plain": [
              "torch.Size([1, 2])"
            ]
          },
          "metadata": {},
          "execution_count": 203
        }
      ]
    },
    {
      "cell_type": "code",
      "source": [
        "torch.flatten(list(val_dataloader)[0][0])"
      ],
      "metadata": {
        "colab": {
          "base_uri": "https://localhost:8080/"
        },
        "id": "I8UWpydf4PL_",
        "outputId": "d5145ef5-733c-45f0-e8b3-971cec4fcecc"
      },
      "execution_count": 204,
      "outputs": [
        {
          "output_type": "execute_result",
          "data": {
            "text/plain": [
              "tensor([-1.1899, -0.1671])"
            ]
          },
          "metadata": {},
          "execution_count": 204
        }
      ]
    },
    {
      "cell_type": "code",
      "source": [
        "class NeuralNetwork(torch.nn.Module):\n",
        "  def __init__(self,\n",
        "               n_neurons,\n",
        "               batch_size = 1,\n",
        "              #  batch_size = 16,\n",
        "               n_features = 2):\n",
        "\n",
        "    super(NeuralNetwork, self).__init__()\n",
        "    self.fc1 = torch.nn.Linear(batch_size * n_features, n_neurons)\n",
        "    self.activation1 = torch.nn.Sigmoid()\n",
        "    self.fc2 = torch.nn.Linear(n_neurons, 1)\n",
        "    self.activation2 = torch.nn.Sigmoid()\n",
        "\n",
        "  def forward(self, x):\n",
        "    x = torch.flatten(x)\n",
        "    x = self.fc1(x)\n",
        "    x = self.activation1(x)\n",
        "    x = self.fc2(x)\n",
        "    x = self.activation2(x)\n",
        "    return x"
      ],
      "metadata": {
        "id": "P6kU3JFcAILs"
      },
      "execution_count": 220,
      "outputs": []
    },
    {
      "cell_type": "code",
      "source": [
        "if torch.cuda.is_available():\n",
        "  device = torch.device('cuda')\n",
        "else:\n",
        "  device = torch.device('cpu')\n",
        "\n",
        "device"
      ],
      "metadata": {
        "id": "UQZqcrkLG4ve",
        "colab": {
          "base_uri": "https://localhost:8080/"
        },
        "outputId": "d5df5f6f-a0f9-4118-c07a-8393b99b01ad"
      },
      "execution_count": 221,
      "outputs": [
        {
          "output_type": "execute_result",
          "data": {
            "text/plain": [
              "device(type='cuda')"
            ]
          },
          "metadata": {},
          "execution_count": 221
        }
      ]
    },
    {
      "cell_type": "code",
      "source": [
        "# def train(num_epochs):\n",
        "\n",
        "#   for epoch in range(num_epochs):\n",
        "#     # Установка модели в режим обучения\n",
        "#     model.train()\n",
        "\n",
        "#     running_loss = 0.0\n",
        "\n",
        "#     # проходим по всем батчам, 1 эпоха\n",
        "#     for inputs, targets in train_dataloader:\n",
        "#       # inputs - размер batch_size (=16) x features_num (=2)\n",
        "#       inputs = inputs.to(device)\n",
        "#       # targets - размер batch_size (=16) x 1\n",
        "#       targets = targets.to(device)\n",
        "\n",
        "#       # Обнуление градиентов\n",
        "#       optimizer.zero_grad()\n",
        "#       # Прямой проход\n",
        "#       outputs = model.forward(inputs)\n",
        "#       # Вычисление ошибки для одного батча данных\n",
        "#       loss_value = loss(outputs, targets)\n",
        "#       # Обратный проход\n",
        "#       loss_value.backward()\n",
        "#       # Обновление параметров\n",
        "#       optimizer.step()\n",
        "\n",
        "#       # Ошибка за эпоху по всем батчам\n",
        "#       running_loss += loss_value.item()\n",
        "\n",
        "#     # Средняя ошибка за эпоху\n",
        "#     # running_loss - ошибка за эпоху по всем батчам в обучающей выборке\n",
        "#     # len(train_dataloader) - количество батчей в обучающей выборке\n",
        "#     avg_loss = running_loss / len(train_dataloader)\n",
        "\n",
        "#     print(f'Epoch {epoch + 1} / {num_epochs}\\nTrain Loss: {avg_loss:.3f}')\n",
        "\n",
        "#     # Валидация\n",
        "#     # Установка модели  режим оценки\n",
        "#     model.eval()\n",
        "\n",
        "#     with torch.no_grad():\n",
        "#       val_loss = 0.0\n",
        "#       for inputs, targets in val_dataloader:\n",
        "#         # inputs - размер batch_size (=16) x features_num (=2)\n",
        "#         inputs = inputs.to(device)\n",
        "#         # targets - размер batch_size (=16) x 1\n",
        "#         targets = targets.to(device)\n",
        "\n",
        "#         outputs = model.forward(inputs)\n",
        "\n",
        "#         loss_value = loss(outputs, targets)\n",
        "\n",
        "#         val_loss += loss_value.item()\n",
        "\n",
        "#       # Средняя ошибка за эпоху\n",
        "#       # val_loss - ошибка за эпоху по всем батчам валидационной выборки\n",
        "#       # len(val_dataloader) - количество батчей в валидационной выборки\n",
        "#       avg_val_loss = val_loss / len(val_dataloader)\n",
        "\n",
        "#       print(f'Validation Loss: {avg_val_loss:.3f}')"
      ],
      "metadata": {
        "id": "As4ovvOwnv5n"
      },
      "execution_count": 207,
      "outputs": []
    },
    {
      "cell_type": "code",
      "source": [
        "def train():\n",
        "  # Установка модели в режим обучения\n",
        "  model.train()\n",
        "\n",
        "  running_loss = 0.0\n",
        "\n",
        "  # проходим по всем батчам, 1 эпоха\n",
        "  for inputs, targets in train_dataloader:\n",
        "    # inputs - размер batch_size (=16) x features_num (=2)\n",
        "    inputs = inputs.to(device)\n",
        "    # targets - размер batch_size (=16) x 1\n",
        "    targets = targets.to(device)\n",
        "\n",
        "    # Обнуление градиентов\n",
        "    optimizer.zero_grad()\n",
        "    # Прямой проход\n",
        "    outputs = model.forward(inputs)\n",
        "    # Вычисление ошибки для одного батча данных\n",
        "    loss_value = loss(outputs, targets)\n",
        "    # Обратный проход\n",
        "    loss_value.backward()\n",
        "    # Обновление параметров\n",
        "    optimizer.step()\n",
        "\n",
        "    # Ошибка за эпоху по всем батчам\n",
        "    running_loss += loss_value.item()\n",
        "\n",
        "  # Средняя ошибка за эпоху\n",
        "  # running_loss - ошибка за эпоху по всем батчам в обучающей выборке\n",
        "  # len(train_dataloader) - количество батчей в обучающей выборке\n",
        "  avg_loss = running_loss / len(train_dataloader)\n",
        "  return avg_loss\n",
        "\n",
        "\n",
        "def validation():\n",
        "  # Валидация\n",
        "  # Установка модели  режим оценки\n",
        "  model.eval()\n",
        "\n",
        "  with torch.no_grad():\n",
        "\n",
        "    val_loss = 0.0\n",
        "    for inputs, targets in val_dataloader:\n",
        "      # inputs - размер batch_size (=16) x features_num (=2)\n",
        "      inputs = inputs.to(device)\n",
        "      # targets - размер batch_size (=16) x 1\n",
        "      targets = targets.to(device)\n",
        "\n",
        "      outputs = model.forward(inputs)\n",
        "\n",
        "      loss_value = loss(outputs, targets)\n",
        "\n",
        "      val_loss += loss_value.item()\n",
        "\n",
        "    # Средняя ошибка за эпоху\n",
        "    # val_loss - ошибка за эпоху по всем батчам валидационной выборки\n",
        "    # len(val_dataloader) - количество батчей в валидационной выборки\n",
        "    avg_val_loss = val_loss / len(val_dataloader)\n",
        "    return avg_val_loss"
      ],
      "metadata": {
        "id": "eTlArAg_KQBH"
      },
      "execution_count": 222,
      "outputs": []
    },
    {
      "cell_type": "code",
      "source": [
        "n_hidden_neurons = 40\n",
        "model = NeuralNetwork(n_hidden_neurons).to(device)\n",
        "model"
      ],
      "metadata": {
        "colab": {
          "base_uri": "https://localhost:8080/"
        },
        "id": "AxwC0l2_UmV2",
        "outputId": "df820497-739d-4769-b598-b22716d5daa8"
      },
      "execution_count": 223,
      "outputs": [
        {
          "output_type": "execute_result",
          "data": {
            "text/plain": [
              "NeuralNetwork(\n",
              "  (fc1): Linear(in_features=2, out_features=40, bias=True)\n",
              "  (activation1): Sigmoid()\n",
              "  (fc2): Linear(in_features=40, out_features=1, bias=True)\n",
              "  (activation2): Sigmoid()\n",
              ")"
            ]
          },
          "metadata": {},
          "execution_count": 223
        }
      ]
    },
    {
      "cell_type": "code",
      "source": [
        "optimizer = torch.optim.Adam(model.parameters(), lr = 0.01)\n",
        "loss = torch.nn.MSELoss()"
      ],
      "metadata": {
        "id": "qVWNq2-OXYdn"
      },
      "execution_count": 224,
      "outputs": []
    },
    {
      "cell_type": "code",
      "source": [
        "num_epochs = 10\n",
        "for epoch in range(num_epochs):\n",
        "  avg_epoch_train_loss = train()\n",
        "  print(f'Epoch {epoch + 1} / {num_epochs}\\nTrain Loss: {avg_epoch_train_loss:.6f}')\n",
        "  avg_epoch_val_loss = validation()\n",
        "  print(f'Validation Loss: {avg_epoch_val_loss:.6f}\\n')"
      ],
      "metadata": {
        "colab": {
          "base_uri": "https://localhost:8080/"
        },
        "id": "d1jkQpviLff7",
        "outputId": "8b3ed6c0-b858-4c4f-c674-6bb12565cba0"
      },
      "execution_count": 225,
      "outputs": [
        {
          "output_type": "stream",
          "name": "stdout",
          "text": [
            "Epoch 1 / 10\n",
            "Train Loss: 0.018628\n",
            "Validation Loss: 0.017594\n",
            "\n",
            "Epoch 2 / 10\n",
            "Train Loss: 0.018322\n",
            "Validation Loss: 0.017605\n",
            "\n",
            "Epoch 3 / 10\n",
            "Train Loss: 0.018298\n",
            "Validation Loss: 0.017612\n",
            "\n",
            "Epoch 4 / 10\n",
            "Train Loss: 0.018277\n",
            "Validation Loss: 0.017616\n",
            "\n",
            "Epoch 5 / 10\n",
            "Train Loss: 0.018257\n",
            "Validation Loss: 0.017623\n",
            "\n",
            "Epoch 6 / 10\n",
            "Train Loss: 0.018235\n",
            "Validation Loss: 0.017632\n",
            "\n",
            "Epoch 7 / 10\n",
            "Train Loss: 0.018207\n",
            "Validation Loss: 0.017647\n",
            "\n",
            "Epoch 8 / 10\n",
            "Train Loss: 0.018163\n",
            "Validation Loss: 0.017666\n",
            "\n",
            "Epoch 9 / 10\n",
            "Train Loss: 0.018101\n",
            "Validation Loss: 0.017689\n",
            "\n",
            "Epoch 10 / 10\n",
            "Train Loss: 0.018034\n",
            "Validation Loss: 0.017711\n",
            "\n"
          ]
        }
      ]
    },
    {
      "cell_type": "code",
      "source": [
        "def test(data):\n",
        "  # Валидация\n",
        "  # Установка модели  режим оценки\n",
        "  model.eval()\n",
        "\n",
        "  preds = []\n",
        "\n",
        "  with torch.no_grad():\n",
        "\n",
        "    test_loss = 0.0\n",
        "\n",
        "    for inputs, targets in data:\n",
        "      # inputs - размер batch_size (=16) x features_num (=2)\n",
        "      inputs = inputs.to(device)\n",
        "      # targets - размер batch_size (=16) x 1\n",
        "      targets = targets.to(device)\n",
        "\n",
        "      predictions = model.forward(inputs)\n",
        "\n",
        "      preds.append(predictions)\n",
        "\n",
        "      # Ошибка по батчу\n",
        "      loss_value = loss(predictions, targets)\n",
        "      # Ошибка по всем батчам\n",
        "      test_loss += loss_value.item()\n",
        "\n",
        "    # Средняя ошибка за эпоху\n",
        "    # test_loss - ошибка за эпоху по всем батчам валидационной выборки\n",
        "    # len(test_dataloader) - количество батчей в валидационной выборки\n",
        "    avg_test_loss = test_loss / len(data)\n",
        "    return avg_test_loss, preds"
      ],
      "metadata": {
        "id": "EYyg2uEs5gUo"
      },
      "execution_count": 226,
      "outputs": []
    },
    {
      "cell_type": "code",
      "source": [
        "result = test(test_dataloader)\n",
        "print(f'MSE loss on test data: {result[0]:.6f}')"
      ],
      "metadata": {
        "colab": {
          "base_uri": "https://localhost:8080/"
        },
        "id": "UD7c4HdRPzbe",
        "outputId": "3194a153-c497-416e-bf44-db1eb8b03059"
      },
      "execution_count": 227,
      "outputs": [
        {
          "output_type": "stream",
          "name": "stdout",
          "text": [
            "MSE loss on test data: 0.017847\n"
          ]
        }
      ]
    },
    {
      "cell_type": "code",
      "source": [
        "all_x_data = torch.cat([x_train, x_val, x_test], dim = 0)\n",
        "\n",
        "mean = all_x_data.data.float().mean()\n",
        "std = all_x_data.data.float().std()\n",
        "print(mean, std)\n",
        "\n",
        "# Нормализация\n",
        "normalized_all_data = (all_x_data.float() - mean) / std\n",
        "normalized_all_data.shape"
      ],
      "metadata": {
        "colab": {
          "base_uri": "https://localhost:8080/"
        },
        "id": "8qmDk8UJim_s",
        "outputId": "208e3c23-c355-4232-f16c-d7cc3e62a73a"
      },
      "execution_count": 232,
      "outputs": [
        {
          "output_type": "stream",
          "name": "stdout",
          "text": [
            "tensor(-0.0912) tensor(5.7526)\n"
          ]
        },
        {
          "output_type": "execute_result",
          "data": {
            "text/plain": [
              "torch.Size([2000, 2])"
            ]
          },
          "metadata": {},
          "execution_count": 232
        }
      ]
    },
    {
      "cell_type": "code",
      "source": [
        "all_y_data = torch.cat([y_train, y_val, y_test], dim = 0)\n",
        "all_y_data.shape"
      ],
      "metadata": {
        "colab": {
          "base_uri": "https://localhost:8080/"
        },
        "id": "PW5CdeXBkF05",
        "outputId": "28810cb2-811c-4b52-a83f-665f383b6651"
      },
      "execution_count": 233,
      "outputs": [
        {
          "output_type": "execute_result",
          "data": {
            "text/plain": [
              "torch.Size([2000, 1])"
            ]
          },
          "metadata": {},
          "execution_count": 233
        }
      ]
    },
    {
      "cell_type": "code",
      "source": [
        "all_data = CustomDataset(normalized_all_data, all_y_data)"
      ],
      "metadata": {
        "id": "ccvrHVHOieQQ"
      },
      "execution_count": 234,
      "outputs": []
    },
    {
      "cell_type": "code",
      "source": [
        "all_dataloader = DataLoader(all_data, batch_size=1, shuffle=False, drop_last= True)"
      ],
      "metadata": {
        "id": "JkqKk7yjQZ2o"
      },
      "execution_count": 235,
      "outputs": []
    },
    {
      "cell_type": "code",
      "source": [
        "result = test(all_dataloader)\n",
        "print(f'MSE loss on test data: {result[0]:.6f}')"
      ],
      "metadata": {
        "colab": {
          "base_uri": "https://localhost:8080/"
        },
        "id": "C9xcMWsRkOGk",
        "outputId": "6d23e293-6b10-4bc9-991c-487bc6381b0b"
      },
      "execution_count": 236,
      "outputs": [
        {
          "output_type": "stream",
          "name": "stderr",
          "text": [
            "/usr/local/lib/python3.10/dist-packages/torch/nn/modules/loss.py:608: UserWarning: Using a target size (torch.Size([1, 1])) that is different to the input size (torch.Size([1])). This will likely lead to incorrect results due to broadcasting. Please ensure they have the same size.\n",
            "  return F.mse_loss(input, target, reduction=self.reduction)\n"
          ]
        },
        {
          "output_type": "stream",
          "name": "stdout",
          "text": [
            "MSE loss on test data: 0.017932\n"
          ]
        }
      ]
    },
    {
      "cell_type": "code",
      "source": [
        "predictions = torch.tensor(result[1]).unsqueeze(0).transpose(0,1)\n",
        "predictions.shape"
      ],
      "metadata": {
        "colab": {
          "base_uri": "https://localhost:8080/"
        },
        "id": "beqBT8RMkSh6",
        "outputId": "6936af1a-5853-47a5-cd47-e35f49b38337"
      },
      "execution_count": 248,
      "outputs": [
        {
          "output_type": "execute_result",
          "data": {
            "text/plain": [
              "torch.Size([2000, 1])"
            ]
          },
          "metadata": {},
          "execution_count": 248
        }
      ]
    },
    {
      "cell_type": "code",
      "source": [
        "predictions"
      ],
      "metadata": {
        "colab": {
          "base_uri": "https://localhost:8080/"
        },
        "id": "zT7OLSArkVt2",
        "outputId": "69766f90-8812-4116-dce7-61ca382005a3"
      },
      "execution_count": 249,
      "outputs": [
        {
          "output_type": "execute_result",
          "data": {
            "text/plain": [
              "tensor([[1.1215e-06],\n",
              "        [1.0156e-05],\n",
              "        [2.5741e-04],\n",
              "        ...,\n",
              "        [1.5991e-03],\n",
              "        [2.5551e-03],\n",
              "        [5.3700e-03]])"
            ]
          },
          "metadata": {},
          "execution_count": 249
        }
      ]
    },
    {
      "cell_type": "code",
      "source": [
        "all_y_data"
      ],
      "metadata": {
        "colab": {
          "base_uri": "https://localhost:8080/"
        },
        "id": "Ozyzgcd3lAhP",
        "outputId": "38bda352-4dd9-4bfd-8f0c-7cc49ef21e6d"
      },
      "execution_count": 250,
      "outputs": [
        {
          "output_type": "execute_result",
          "data": {
            "text/plain": [
              "tensor([[-2.6915e-27],\n",
              "        [ 5.3418e-14],\n",
              "        [ 3.1939e-02],\n",
              "        ...,\n",
              "        [ 0.0000e+00],\n",
              "        [ 0.0000e+00],\n",
              "        [ 1.0601e-21]])"
            ]
          },
          "metadata": {},
          "execution_count": 250
        }
      ]
    },
    {
      "cell_type": "code",
      "source": [
        "from matplotlib import cm\n",
        "\n",
        "plt.style.use('_mpl-gallery')"
      ],
      "metadata": {
        "id": "KYwCn9v5vLfh"
      },
      "execution_count": 252,
      "outputs": []
    },
    {
      "cell_type": "code",
      "source": [
        "# Создание 3D-графика\n",
        "fig = plt.figure()\n",
        "ax = fig.add_subplot(111, projection='3d')\n",
        "\n",
        "# Добавляем первую поверхность\n",
        "ax.plot_surface(x0, x1, all_y_data, cmap='viridis', alpha=0.7, label='f1')  # Прозрачность 0.7\n",
        "\n",
        "# Добавляем вторую поверхность\n",
        "# ax.plot_surface(x0, x1, predictions, cmap='plasma', alpha=0.7, label='f2')  # Прозрачность 0.7\n",
        "\n",
        "# Добавим метки и заголовок\n",
        "ax.set_xlabel('X axis')\n",
        "ax.set_ylabel('Y axis')\n",
        "ax.set_zlabel('Z axis')\n",
        "ax.set_title('Surface: f1(x, y)')\n",
        "\n",
        "# Показать график\n",
        "plt.show()"
      ],
      "metadata": {
        "colab": {
          "base_uri": "https://localhost:8080/",
          "height": 277
        },
        "id": "VO96qxO_lBt9",
        "outputId": "eef1815b-a5f8-4bde-f64b-53ee8afe6f8a"
      },
      "execution_count": 259,
      "outputs": [
        {
          "output_type": "display_data",
          "data": {
            "text/plain": [
              "<Figure size 200x200 with 1 Axes>"
            ],
            "image/png": "[encoded data removed]"
          },
          "metadata": {}
        }
      ]
    },
    {
      "cell_type": "code",
      "source": [
        "# Создание 3D-графика\n",
        "fig = plt.figure()\n",
        "ax = fig.add_subplot(111, projection='3d')\n",
        "\n",
        "# Добавляем первую поверхность\n",
        "# ax.plot_surface(x0, x1, all_y_data, cmap='viridis', alpha=0.7, label='f1')  # Прозрачность 0.7\n",
        "\n",
        "# Добавляем вторую поверхность\n",
        "ax.plot_surface(x0, x1, predictions, cmap='plasma', alpha=0.7, label='f2')  # Прозрачность 0.7\n",
        "\n",
        "# Добавим метки и заголовок\n",
        "ax.set_xlabel('X axis')\n",
        "ax.set_ylabel('Y axis')\n",
        "ax.set_zlabel('Z axis')\n",
        "ax.set_title('Surface: f2(x, y)')\n",
        "\n",
        "# Показать график\n",
        "plt.show()"
      ],
      "metadata": {
        "colab": {
          "base_uri": "https://localhost:8080/",
          "height": 277
        },
        "id": "y6eL3m-LvXXv",
        "outputId": "cd7cd6d1-9511-40d6-b009-6f0f8e70bf72"
      },
      "execution_count": 260,
      "outputs": [
        {
          "output_type": "display_data",
          "data": {
            "text/plain": [
              "<Figure size 200x200 with 1 Axes>"
            ],
            "image/png": "[encoded data removed]"
          },
          "metadata": {}
        }
      ]
    },
    {
      "cell_type": "code",
      "source": [],
      "metadata": {
        "id": "yll9ZJ8Avm_S"
      },
      "execution_count": null,
      "outputs": []
    }
  ]
}